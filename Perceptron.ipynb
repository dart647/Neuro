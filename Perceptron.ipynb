{
 "cells": [
  {
   "cell_type": "markdown",
   "metadata": {},
   "source": [
    "## Технологии глубокого обучения и нейронных сетей, МТУСИ\n",
    "\n",
    "## Лабораторная работа 1: Обучение однослойного персептрона методом коррекции по ошибке через дельта-правило\n",
    "\n",
    "__Студент:__ Спивак А.А.\n",
    "\n",
    "__Группа:__ МБД2032"
   ]
  },
  {
   "cell_type": "markdown",
   "metadata": {},
   "source": [
    "### Цель работы. \n",
    "\n",
    "    Изучить алгоритм обучения однослойного персептрона методом коррекции по ошибке через дельта-правило.\n",
    "\n",
    "\n",
    "### Задание\n",
    "\n",
    "    В соответствии с вариантом, необходимо обучить нейронную сеть распознавать указанные 4 символа. На каждый символ необходимо подготовить 4 обучающих образа с использованием разных шрифтов. Соответственно, всего будет 16 обучающих образов: 4 образа первым шрифтом, 4 образа, вторым шрифтом и т.д. Тестовая выборка должна содержать по 1 образу на каждый из 4-х символов. Символы должны быть написаны другим шрифтом, который не был использован в обучающей выборке. \n",
    "\n",
    "### Теоретические сведения\n",
    "\n",
    "    Обучение сети включает в себя передачу данных через сеть, использование функции потерь для определения разности между прогнозом и фактической маркировкой, а затем использование этой информации для обновления весов сети, чтобы возврат функции потерь был как можно меньше. Для выполнения обновлений в нейронной сети мы используем оптимизатор.\n",
    "\n",
    "        Ошибкой выхода персептрона:\n",
    "\n",
    "$$ e_j=d_j-y_j $$\n",
    "\n",
    "\n",
    "\n",
    "    Дельта-правило — метод обучения перцептрона по принципу градиентного спуска по поверхности ошибки. Его дальнейшее развитие привело к созданию метода обратного распространения ошибки.\n",
    "\n",
    "    Вес входного сигнала нейрона изменяется в сторону уменьшения ошибки пропорционально величине суммарной ошибки нейрона. Часто вводят коэффициент пропорциональности $\\eta$ , на который умножается величина ошибки. Этот коэффициент называют скоростью или нормой  обучения. \n",
    "    \n",
    "        Формула для корректировки весов:\n",
    "\n",
    "$$ w_{j}(t+1)=w_{j}(t)+\\eta * e_{j} *x_{j}, $$\n",
    "\n",
    "\n",
    "   где $\\eta$ -коэффициент пропорциональности(называют скоростью или нормой  обучения), \n",
    "\n",
    "   $e_{j}$ - величина ошибки "
   ]
  },
  {
   "cell_type": "markdown",
   "metadata": {},
   "source": [
    "1. Импорт библиотек\n",
    "2. Загрузчик данных и наборы данных\n",
    "3. Создание однослойной нейронной сети \n",
    "4. Уравнение для обучения\n",
    "5. Функция потерь (коррекция по ошибке черех дельта правило )\n",
    "6. Оцениваем точность "
   ]
  },
  {
   "cell_type": "code",
   "execution_count": 59,
   "metadata": {},
   "outputs": [],
   "source": [
    "from torchvision import transforms\n",
    "from torch.utils.data import DataLoader\n",
    "from torchvision.datasets import ImageFolder\n",
    "import torch"
   ]
  },
  {
   "cell_type": "code",
   "execution_count": 60,
   "metadata": {},
   "outputs": [],
   "source": [
    "import numpy as np"
   ]
  },
  {
   "cell_type": "code",
   "execution_count": 61,
   "metadata": {},
   "outputs": [],
   "source": [
    "path_test = './data/test'\n",
    "path_train = './data/train'\n",
    "\n",
    "transforms = transforms.Compose([\n",
    "    transforms.ToTensor()\n",
    "])"
   ]
  },
  {
   "cell_type": "markdown",
   "metadata": {},
   "source": [
    "### Создание загрузчика датасета "
   ]
  },
  {
   "cell_type": "code",
   "execution_count": 62,
   "metadata": {
    "scrolled": true
   },
   "outputs": [],
   "source": [
    "train_dataset = ImageFolder(root = path_test, transform = transforms)\n",
    "test_dataset = ImageFolder(root = path_train, transform = transforms)"
   ]
  },
  {
   "cell_type": "code",
   "execution_count": 63,
   "metadata": {},
   "outputs": [],
   "source": [
    "train_loader = DataLoader(train_dataset)\n",
    "test_loader = DataLoader(test_dataset)"
   ]
  },
  {
   "cell_type": "code",
   "execution_count": 64,
   "metadata": {},
   "outputs": [
    {
     "data": {
      "text/plain": [
       "<torch.utils.data.dataloader.DataLoader at 0x141141d1eb0>"
      ]
     },
     "execution_count": 64,
     "metadata": {},
     "output_type": "execute_result"
    }
   ],
   "source": [
    "train_loader"
   ]
  },
  {
   "cell_type": "markdown",
   "metadata": {},
   "source": [
    "### Однослойный персептрон"
   ]
  },
  {
   "cell_type": "code",
   "execution_count": 73,
   "metadata": {},
   "outputs": [],
   "source": [
    "\n",
    "class NeuralNet:\n",
    "    \n",
    "    \"\"\" \n",
    "    Нейронная сеть прямого распрастронения / классификатор \n",
    "    на основе многослойного персептрона\n",
    "    Параметры:\n",
    "    ---------\n",
    "    n_hidden : int (по умолчанию: 30)\n",
    "        количестов скрытых элементов\n",
    "    l2: float (по умолчанию: 0.)\n",
    "        значения лямбда для регулярщации L2\n",
    "        Регуляризация отстутствует, если l2=0 (принято по умолчанию).\n",
    "    epochs: int (по умолчанию: 100)\n",
    "        Количетсов проходов по обучающему набору.\n",
    "    lr: float (по умолчанию: 0.001)\n",
    "        скорость обучения \n",
    "    shuffle: bool (по умолчанию True)\n",
    "        Eсли True, тогда обучающие данные тасуются \n",
    "        каждую эпоху, чтобы предотвратить циклы\n",
    "    minibatch_size: int (по умолчанию 1)\n",
    "        Количество обучаюших образцов на минипакет\n",
    "    seed : int (по умолчанию:None)\n",
    "        Случайное начальное значение для инициализации весов и тасования\n",
    "        \n",
    "    Атрибуты:\n",
    "    --------\n",
    "    eval_ : dict\n",
    "        Словарь, в котором собираются показатели издержек,\n",
    "        правильности при обучении и правильности при испытании\n",
    "        для каждой эпохи во время обучения.\n",
    "    \"\"\"\n",
    "    \n",
    "    def __init__(self, num_features, num_labels,  num_classes, random_seed=123):\n",
    "        super().__init__()\n",
    "\n",
    "        self.num_classes = num_classes\n",
    "        self.num_labels = num_labels\n",
    "        \n",
    "        # output layer инициализация весов для  слоя + баес\n",
    "        rgen = np.random.RandomState(random_seed)\n",
    "        \n",
    "        ### 784, 6\n",
    "        self.weight_o = rgen.normal(loc = 0.0, scale = 0.001, size = (num_features, num_classes))\n",
    "        \n",
    "        ### 1,6\n",
    "        self.bias_o = np.zeros(num_classes)\n",
    "\n",
    "\n",
    "    def normalize(self, full_volume):\n",
    "        mu = full_volume.mean()\n",
    "        std = np.std(full_volume)\n",
    "        normalized = (full_volume - mu) / std\n",
    "        return normalized\n",
    "\n",
    "    def standardize(self, normalized_data):\n",
    "        standardized_data = (normalized_data - normalized_data.min()) / (normalized_data.max() - normalized_data.min())\n",
    "        return standardized_data\n",
    "\n",
    "    \n",
    "    def sigmoid(self, z):\n",
    "        return 1. / (1. + np.exp(-z))\n",
    "    \n",
    "    def int_to_onehot(self, y, num_labels):\n",
    "        \n",
    "        ''' \n",
    "        Кодирует метки класса в представление с унитарным кодом\n",
    "        \n",
    "        Параметры:\n",
    "        ---------\n",
    "        y: массив, форма = [n_examples]\n",
    "            Целеые значения.\n",
    "            \n",
    "        Возвращает:\n",
    "        ----------\n",
    "        onehot : массив, форма = (n_examples, n_labels)\n",
    "        '''\n",
    "        ## 1,6: [1,0,0,0,0,0] ---[0,1,0,0,0,0]\n",
    "        onehot = np.zeros((y.shape[0], num_labels))\n",
    "        for indx, val in enumerate(y):\n",
    "            onehot[indx, val] = 1\n",
    "\n",
    "        return onehot \n",
    "    \n",
    "    def forward(self, X):\n",
    "        \n",
    "        ## X: {3, 784}  *   weight_o: {784,6}  +  bias_o:{1,6}  = {3,6}\n",
    "        # 1 шаг прямого распространение скларяное произведение X и weight_h\n",
    "        z_out = np.dot(X, self.weight_o) + self.bias_o\n",
    "        \n",
    "        # превращает в меньше единицы\n",
    "        # 2 шаг применение функции активации (сигмоиды) - активация слоя\n",
    "        a_out = self.sigmoid(z_out)\n",
    "        \n",
    "        return  z_out, a_out\n",
    "    "
   ]
  },
  {
   "cell_type": "code",
   "execution_count": 78,
   "metadata": {},
   "outputs": [],
   "source": [
    "model = NeuralNet(num_features = 28 * 28,\n",
    "                      num_labels = 6,\n",
    "                      num_classes = 6)"
   ]
  },
  {
   "cell_type": "code",
   "execution_count": 79,
   "metadata": {},
   "outputs": [],
   "source": [
    "def compute_mse_and_acc(nnet, X, y, num_labels = 6 ):\n",
    "    mse, correct_pred, num_examples = 0., 0, 0\n",
    "\n",
    "\n",
    "    _, probas = nnet.forward(X)\n",
    "    predicted_labels = np.argmax(probas, axis=1)\n",
    "\n",
    "    onehot_targets = int_to_onehot(y, num_labels = num_labels)\n",
    "    loss = np.mean((onehot_targets - probas) ** 2)\n",
    "    correct_pred += (predicted_labels == y).sum()\n",
    "\n",
    "    num_examples += y.shape[0]\n",
    "    mse += loss\n",
    "\n",
    "    mse = mse\n",
    "    acc = correct_pred/num_examples\n",
    "    return mse, acc"
   ]
  },
  {
   "cell_type": "markdown",
   "metadata": {},
   "source": [
    "### Обучение "
   ]
  },
  {
   "cell_type": "code",
   "execution_count": 88,
   "metadata": {},
   "outputs": [],
   "source": [
    "def train(model, train_loader, valid_loader,  num_epochs, learning_rate=0.1):\n",
    "    epoch_loss = []\n",
    "    _loss = []\n",
    "    \n",
    "    epoch_train_acc = []\n",
    "    _train_acc = []\n",
    "    \n",
    "    epoch_valid_acc = []\n",
    "    _valid_acc = []\n",
    "    \n",
    "    for e in range(num_epochs):\n",
    "\n",
    "\n",
    "        \n",
    "        for X_train_mini, y_train_mini in train_loader:\n",
    "            \n",
    "            ### preprocesing\n",
    "            \n",
    "            ##сплющивание тензора 3,28,28 --> 3.784\n",
    "            X_train_mini = torch.flatten(X_train_mini, start_dim = 2, end_dim = 3)\n",
    "            \n",
    "            ## меням тип на np.array 3, 785,1 \n",
    "            X_train_mini = np.array(X_train_mini) \n",
    "            \n",
    "            ## убиарем ось описывабщший батч\n",
    "            X_train_mini = np.squeeze(X_train_mini)\n",
    "            \n",
    "            # перемещавем ось\n",
    "            #X_train_mini = X_train_mini.swapaxes(0,2) \n",
    "            #print(X_train_mini .shape)\n",
    "            #стандартизируем данные\n",
    "            X_train_mini = model.standardize(model.normalize(X_train_mini))\n",
    "\n",
    "            \n",
    "            y_train_mini = np.array(y_train_mini)\n",
    "            #print(y_train_mini)\n",
    "\n",
    "\n",
    "            #### Compute outputs ####\n",
    "            z_out, a_out = model.forward(X_train_mini)\n",
    "            #print(\"a_out\", a_out)\n",
    "            \n",
    "            #### Compute delta ####\n",
    "            onehot_target = model.int_to_onehot(y_train_mini, num_labels = 6)\n",
    "            #print('onehot_target', onehot_target)\n",
    "            \n",
    "            delta = (onehot_target  - a_out ) * learning_rate\n",
    "            #print('delta', delta)\n",
    "            \n",
    "            delta_weight = np.dot(delta.T, X_train_mini )\n",
    "            #print('delta_weight', delta_weight)\n",
    "\n",
    "            #### Update weights ####\n",
    "            model.weight_o +=  delta_weight.T\n",
    "            #print('weight_o', model.weight_o)\n",
    "\n",
    "            model.bias_o += np.sum(delta, axis = 0)\n",
    "            #print('bias_o', model.bias_o)\n",
    "            \n",
    "            ##loss\n",
    "            predicted_labels = np.argmax(a_out, axis = 1)\n",
    "            train_acc = (y_train_mini == predicted_labels)\n",
    "\n",
    "            train_mse =  ((onehot_target - a_out) ** 2)\n",
    "            \n",
    "            _train_acc.append(train_acc)\n",
    "            _loss.append(train_mse)\n",
    "            \n",
    "        for X_valid_mini, y_valid_mini in valid_loader:\n",
    "            \n",
    "            ##сплющивание тензора 3,28,28 --> 3.784\n",
    "            X_valid_mini = torch.flatten(X_valid_mini, start_dim=2, end_dim=3)\n",
    "            \n",
    "            ## меням тип на np.array 3, 785,1 \n",
    "            X_valid_mini = np.array(X_valid_mini) \n",
    "            \n",
    "            ## убиарем ось описывабщший батч\n",
    "            X_valid_mini = np.squeeze(X_valid_mini)\n",
    "            \n",
    "            # перемещавем ось\n",
    "            #X_train_mini = X_train_mini.swapaxes(0,2) \n",
    "\n",
    "            \n",
    "            #стандартизируем данные\n",
    "            X_valid_mini = model.standardize(model.normalize(X_valid_mini))\n",
    "\n",
    "            y_valid_mini = np.array(y_valid_mini)\n",
    "\n",
    "            \n",
    "            ##loss\n",
    "            \n",
    "            #### Compute outputs ####\n",
    "            _, a_v_out = model.forward(X_valid_mini)\n",
    "            \n",
    "            predicted_labels = np.argmax(a_v_out, axis = 1)\n",
    "            \n",
    "            \n",
    "            valid_acc = (y_valid_mini == predicted_labels)\n",
    "            _valid_acc.append(valid_acc)\n",
    "\n",
    "            \n",
    "        #### Epoch Logging ####        \n",
    "        #train_mse, train_acc = compute_mse_and_acc(model, X_train_mini, y_train_mini)\n",
    "        #valid_mse, valid_acc = compute_mse_and_acc(model, X_valid, y_valid)\n",
    "        \n",
    "        \n",
    "        train_acc = np.mean(_train_acc) * 100\n",
    "        train_mse = np.mean(_loss)\n",
    "        \n",
    "        valid_acc = np.mean(_valid_acc) * 100\n",
    "        \n",
    "\n",
    "        epoch_train_acc.append(train_acc)\n",
    "        epoch_valid_acc.append(valid_acc)\n",
    "        epoch_loss.append(train_mse)\n",
    "        print(f'Epoch: {e + 1:03d}/{num_epochs:.2f} '\n",
    "              f'| Train MSE: {train_mse:.2f} '\n",
    "              f'| Train Acc: {train_acc:.2f}% '\n",
    "              f'| Valid Acc: {valid_acc:.2f}%')\n",
    "\n",
    "    return epoch_loss, epoch_train_acc, epoch_valid_acc"
   ]
  },
  {
   "cell_type": "code",
   "execution_count": 89,
   "metadata": {},
   "outputs": [
    {
     "name": "stdout",
     "output_type": "stream",
     "text": [
      "Epoch: 001/100.00 | Train MSE: 0.21 | Train Acc: 0.00% | Valid Acc: 79.17%\n",
      "Epoch: 002/100.00 | Train MSE: 0.15 | Train Acc: 33.33% | Valid Acc: 87.50%\n",
      "Epoch: 003/100.00 | Train MSE: 0.12 | Train Acc: 55.56% | Valid Acc: 91.67%\n",
      "Epoch: 004/100.00 | Train MSE: 0.09 | Train Acc: 66.67% | Valid Acc: 93.75%\n",
      "Epoch: 005/100.00 | Train MSE: 0.08 | Train Acc: 73.33% | Valid Acc: 95.00%\n",
      "Epoch: 006/100.00 | Train MSE: 0.07 | Train Acc: 77.78% | Valid Acc: 95.83%\n",
      "Epoch: 007/100.00 | Train MSE: 0.06 | Train Acc: 80.95% | Valid Acc: 96.43%\n",
      "Epoch: 008/100.00 | Train MSE: 0.05 | Train Acc: 83.33% | Valid Acc: 96.88%\n",
      "Epoch: 009/100.00 | Train MSE: 0.05 | Train Acc: 85.19% | Valid Acc: 97.22%\n",
      "Epoch: 010/100.00 | Train MSE: 0.04 | Train Acc: 86.67% | Valid Acc: 97.50%\n",
      "Epoch: 011/100.00 | Train MSE: 0.04 | Train Acc: 87.88% | Valid Acc: 97.73%\n",
      "Epoch: 012/100.00 | Train MSE: 0.04 | Train Acc: 88.89% | Valid Acc: 97.92%\n",
      "Epoch: 013/100.00 | Train MSE: 0.03 | Train Acc: 89.74% | Valid Acc: 98.08%\n",
      "Epoch: 014/100.00 | Train MSE: 0.03 | Train Acc: 90.48% | Valid Acc: 98.21%\n",
      "Epoch: 015/100.00 | Train MSE: 0.03 | Train Acc: 91.11% | Valid Acc: 98.33%\n",
      "Epoch: 016/100.00 | Train MSE: 0.03 | Train Acc: 91.67% | Valid Acc: 98.44%\n",
      "Epoch: 017/100.00 | Train MSE: 0.03 | Train Acc: 92.16% | Valid Acc: 98.53%\n",
      "Epoch: 018/100.00 | Train MSE: 0.02 | Train Acc: 92.59% | Valid Acc: 98.61%\n",
      "Epoch: 019/100.00 | Train MSE: 0.02 | Train Acc: 92.98% | Valid Acc: 98.68%\n",
      "Epoch: 020/100.00 | Train MSE: 0.02 | Train Acc: 93.33% | Valid Acc: 98.75%\n",
      "Epoch: 021/100.00 | Train MSE: 0.02 | Train Acc: 93.65% | Valid Acc: 98.81%\n",
      "Epoch: 022/100.00 | Train MSE: 0.02 | Train Acc: 93.94% | Valid Acc: 98.86%\n",
      "Epoch: 023/100.00 | Train MSE: 0.02 | Train Acc: 94.20% | Valid Acc: 98.91%\n",
      "Epoch: 024/100.00 | Train MSE: 0.02 | Train Acc: 94.44% | Valid Acc: 98.96%\n",
      "Epoch: 025/100.00 | Train MSE: 0.02 | Train Acc: 94.67% | Valid Acc: 99.00%\n",
      "Epoch: 026/100.00 | Train MSE: 0.02 | Train Acc: 94.87% | Valid Acc: 99.04%\n",
      "Epoch: 027/100.00 | Train MSE: 0.02 | Train Acc: 95.06% | Valid Acc: 99.07%\n",
      "Epoch: 028/100.00 | Train MSE: 0.02 | Train Acc: 95.24% | Valid Acc: 99.11%\n",
      "Epoch: 029/100.00 | Train MSE: 0.02 | Train Acc: 95.40% | Valid Acc: 99.14%\n",
      "Epoch: 030/100.00 | Train MSE: 0.01 | Train Acc: 95.56% | Valid Acc: 99.17%\n",
      "Epoch: 031/100.00 | Train MSE: 0.01 | Train Acc: 95.70% | Valid Acc: 99.19%\n",
      "Epoch: 032/100.00 | Train MSE: 0.01 | Train Acc: 95.83% | Valid Acc: 99.22%\n",
      "Epoch: 033/100.00 | Train MSE: 0.01 | Train Acc: 95.96% | Valid Acc: 99.24%\n",
      "Epoch: 034/100.00 | Train MSE: 0.01 | Train Acc: 96.08% | Valid Acc: 99.26%\n",
      "Epoch: 035/100.00 | Train MSE: 0.01 | Train Acc: 96.19% | Valid Acc: 99.29%\n",
      "Epoch: 036/100.00 | Train MSE: 0.01 | Train Acc: 96.30% | Valid Acc: 99.31%\n",
      "Epoch: 037/100.00 | Train MSE: 0.01 | Train Acc: 96.40% | Valid Acc: 99.32%\n",
      "Epoch: 038/100.00 | Train MSE: 0.01 | Train Acc: 96.49% | Valid Acc: 99.34%\n",
      "Epoch: 039/100.00 | Train MSE: 0.01 | Train Acc: 96.58% | Valid Acc: 99.36%\n",
      "Epoch: 040/100.00 | Train MSE: 0.01 | Train Acc: 96.67% | Valid Acc: 99.38%\n",
      "Epoch: 041/100.00 | Train MSE: 0.01 | Train Acc: 96.75% | Valid Acc: 99.39%\n",
      "Epoch: 042/100.00 | Train MSE: 0.01 | Train Acc: 96.83% | Valid Acc: 99.40%\n",
      "Epoch: 043/100.00 | Train MSE: 0.01 | Train Acc: 96.90% | Valid Acc: 99.42%\n",
      "Epoch: 044/100.00 | Train MSE: 0.01 | Train Acc: 96.97% | Valid Acc: 99.43%\n",
      "Epoch: 045/100.00 | Train MSE: 0.01 | Train Acc: 97.04% | Valid Acc: 99.44%\n",
      "Epoch: 046/100.00 | Train MSE: 0.01 | Train Acc: 97.10% | Valid Acc: 99.46%\n",
      "Epoch: 047/100.00 | Train MSE: 0.01 | Train Acc: 97.16% | Valid Acc: 99.47%\n",
      "Epoch: 048/100.00 | Train MSE: 0.01 | Train Acc: 97.22% | Valid Acc: 99.48%\n",
      "Epoch: 049/100.00 | Train MSE: 0.01 | Train Acc: 97.28% | Valid Acc: 99.49%\n",
      "Epoch: 050/100.00 | Train MSE: 0.01 | Train Acc: 97.33% | Valid Acc: 99.50%\n",
      "Epoch: 051/100.00 | Train MSE: 0.01 | Train Acc: 97.39% | Valid Acc: 99.51%\n",
      "Epoch: 052/100.00 | Train MSE: 0.01 | Train Acc: 97.44% | Valid Acc: 99.52%\n",
      "Epoch: 053/100.00 | Train MSE: 0.01 | Train Acc: 97.48% | Valid Acc: 99.53%\n",
      "Epoch: 054/100.00 | Train MSE: 0.01 | Train Acc: 97.53% | Valid Acc: 99.54%\n",
      "Epoch: 055/100.00 | Train MSE: 0.01 | Train Acc: 97.58% | Valid Acc: 99.55%\n",
      "Epoch: 056/100.00 | Train MSE: 0.01 | Train Acc: 97.62% | Valid Acc: 99.55%\n",
      "Epoch: 057/100.00 | Train MSE: 0.01 | Train Acc: 97.66% | Valid Acc: 99.56%\n",
      "Epoch: 058/100.00 | Train MSE: 0.01 | Train Acc: 97.70% | Valid Acc: 99.57%\n",
      "Epoch: 059/100.00 | Train MSE: 0.01 | Train Acc: 97.74% | Valid Acc: 99.58%\n",
      "Epoch: 060/100.00 | Train MSE: 0.01 | Train Acc: 97.78% | Valid Acc: 99.58%\n",
      "Epoch: 061/100.00 | Train MSE: 0.01 | Train Acc: 97.81% | Valid Acc: 99.59%\n",
      "Epoch: 062/100.00 | Train MSE: 0.01 | Train Acc: 97.85% | Valid Acc: 99.60%\n",
      "Epoch: 063/100.00 | Train MSE: 0.01 | Train Acc: 97.88% | Valid Acc: 99.60%\n",
      "Epoch: 064/100.00 | Train MSE: 0.01 | Train Acc: 97.92% | Valid Acc: 99.61%\n",
      "Epoch: 065/100.00 | Train MSE: 0.01 | Train Acc: 97.95% | Valid Acc: 99.62%\n",
      "Epoch: 066/100.00 | Train MSE: 0.01 | Train Acc: 97.98% | Valid Acc: 99.62%\n",
      "Epoch: 067/100.00 | Train MSE: 0.01 | Train Acc: 98.01% | Valid Acc: 99.63%\n",
      "Epoch: 068/100.00 | Train MSE: 0.01 | Train Acc: 98.04% | Valid Acc: 99.63%\n",
      "Epoch: 069/100.00 | Train MSE: 0.01 | Train Acc: 98.07% | Valid Acc: 99.64%\n",
      "Epoch: 070/100.00 | Train MSE: 0.01 | Train Acc: 98.10% | Valid Acc: 99.64%\n",
      "Epoch: 071/100.00 | Train MSE: 0.01 | Train Acc: 98.12% | Valid Acc: 99.65%\n",
      "Epoch: 072/100.00 | Train MSE: 0.01 | Train Acc: 98.15% | Valid Acc: 99.65%\n",
      "Epoch: 073/100.00 | Train MSE: 0.01 | Train Acc: 98.17% | Valid Acc: 99.66%\n",
      "Epoch: 074/100.00 | Train MSE: 0.01 | Train Acc: 98.20% | Valid Acc: 99.66%\n",
      "Epoch: 075/100.00 | Train MSE: 0.01 | Train Acc: 98.22% | Valid Acc: 99.67%\n",
      "Epoch: 076/100.00 | Train MSE: 0.01 | Train Acc: 98.25% | Valid Acc: 99.67%\n",
      "Epoch: 077/100.00 | Train MSE: 0.01 | Train Acc: 98.27% | Valid Acc: 99.68%\n",
      "Epoch: 078/100.00 | Train MSE: 0.01 | Train Acc: 98.29% | Valid Acc: 99.68%\n",
      "Epoch: 079/100.00 | Train MSE: 0.01 | Train Acc: 98.31% | Valid Acc: 99.68%\n",
      "Epoch: 080/100.00 | Train MSE: 0.01 | Train Acc: 98.33% | Valid Acc: 99.69%\n",
      "Epoch: 081/100.00 | Train MSE: 0.01 | Train Acc: 98.35% | Valid Acc: 99.69%\n",
      "Epoch: 082/100.00 | Train MSE: 0.01 | Train Acc: 98.37% | Valid Acc: 99.70%\n",
      "Epoch: 083/100.00 | Train MSE: 0.01 | Train Acc: 98.39% | Valid Acc: 99.70%\n",
      "Epoch: 084/100.00 | Train MSE: 0.01 | Train Acc: 98.41% | Valid Acc: 99.70%\n",
      "Epoch: 085/100.00 | Train MSE: 0.01 | Train Acc: 98.43% | Valid Acc: 99.71%\n",
      "Epoch: 086/100.00 | Train MSE: 0.01 | Train Acc: 98.45% | Valid Acc: 99.71%\n",
      "Epoch: 087/100.00 | Train MSE: 0.01 | Train Acc: 98.47% | Valid Acc: 99.71%\n",
      "Epoch: 088/100.00 | Train MSE: 0.01 | Train Acc: 98.48% | Valid Acc: 99.72%\n",
      "Epoch: 089/100.00 | Train MSE: 0.00 | Train Acc: 98.50% | Valid Acc: 99.72%\n",
      "Epoch: 090/100.00 | Train MSE: 0.00 | Train Acc: 98.52% | Valid Acc: 99.72%\n",
      "Epoch: 091/100.00 | Train MSE: 0.00 | Train Acc: 98.53% | Valid Acc: 99.73%\n",
      "Epoch: 092/100.00 | Train MSE: 0.00 | Train Acc: 98.55% | Valid Acc: 99.73%\n",
      "Epoch: 093/100.00 | Train MSE: 0.00 | Train Acc: 98.57% | Valid Acc: 99.73%\n",
      "Epoch: 094/100.00 | Train MSE: 0.00 | Train Acc: 98.58% | Valid Acc: 99.73%\n",
      "Epoch: 095/100.00 | Train MSE: 0.00 | Train Acc: 98.60% | Valid Acc: 99.74%\n",
      "Epoch: 096/100.00 | Train MSE: 0.00 | Train Acc: 98.61% | Valid Acc: 99.74%\n",
      "Epoch: 097/100.00 | Train MSE: 0.00 | Train Acc: 98.63% | Valid Acc: 99.74%\n",
      "Epoch: 098/100.00 | Train MSE: 0.00 | Train Acc: 98.64% | Valid Acc: 99.74%\n",
      "Epoch: 099/100.00 | Train MSE: 0.00 | Train Acc: 98.65% | Valid Acc: 99.75%\n",
      "Epoch: 100/100.00 | Train MSE: 0.00 | Train Acc: 98.67% | Valid Acc: 99.75%\n"
     ]
    }
   ],
   "source": [
    "np.random.seed(647) # for the training set shuffling\n",
    "\n",
    "epoch_loss, epoch_train_acc, epoch_valid_acc = train(\n",
    "    model, train_loader, test_loader, num_epochs = 100, learning_rate = 0.01)"
   ]
  },
  {
   "cell_type": "code",
   "execution_count": 90,
   "metadata": {},
   "outputs": [
    {
     "data": {
      "text/plain": [
       "array([[-1.08563060e-03,  9.97345447e-04,  2.82978498e-04,\n",
       "        -1.50629471e-03, -5.78600252e-04,  1.65143654e-03],\n",
       "       [-2.42667924e-03, -4.28912629e-04,  1.26593626e-03,\n",
       "        -8.66740402e-04, -6.78886152e-04, -9.47089689e-05],\n",
       "       [ 1.49138963e-03, -6.38901997e-04, -4.43981960e-04,\n",
       "        -4.34351276e-04,  2.20593008e-03,  2.18678609e-03],\n",
       "       ...,\n",
       "       [-4.54652365e-04,  2.47005806e-05, -2.05011003e-03,\n",
       "         6.39761168e-04,  1.42078645e-03,  1.24663078e-03],\n",
       "       [-1.04379345e-03,  5.98483986e-04,  5.16285804e-05,\n",
       "        -6.19840380e-04,  5.24523253e-04,  6.66086969e-04],\n",
       "       [ 4.48142609e-04,  4.94382376e-04, -9.34362341e-05,\n",
       "         1.65065342e-03, -8.45004127e-04,  3.95839030e-04]])"
      ]
     },
     "execution_count": 90,
     "metadata": {},
     "output_type": "execute_result"
    }
   ],
   "source": [
    "model.weight_o"
   ]
  },
  {
   "cell_type": "markdown",
   "metadata": {},
   "source": [
    "### Оценка производительности"
   ]
  },
  {
   "cell_type": "code",
   "execution_count": 91,
   "metadata": {},
   "outputs": [],
   "source": [
    "import matplotlib.pyplot as plt"
   ]
  },
  {
   "cell_type": "code",
   "execution_count": 92,
   "metadata": {},
   "outputs": [
    {
     "data": {
      "image/png": "[encoded data removed]",
      "text/plain": [
       "<Figure size 432x288 with 1 Axes>"
      ]
     },
     "metadata": {
      "needs_background": "light"
     },
     "output_type": "display_data"
    }
   ],
   "source": [
    "plt.plot(range(len(epoch_loss)), epoch_loss)\n",
    "\n",
    "plt.xlabel(\"Epochs\")\n",
    "plt.ylabel(\"MSE\")\n",
    "\n",
    "plt.show()"
   ]
  },
  {
   "cell_type": "markdown",
   "metadata": {},
   "source": [
    "### Вывод:\n",
    "\n",
    "    Наибольший прирост точности обучения проявляется в первых 10 эпохах, далее схождение замедляется. На 100 эпохе все еще происходит небольшой спад, по этому при продолжении обучения точность может стать еще больше."
   ]
  },
  {
   "cell_type": "code",
   "execution_count": 93,
   "metadata": {},
   "outputs": [
    {
     "data": {
      "image/png": "[encoded data removed]",
      "text/plain": [
       "<Figure size 432x288 with 1 Axes>"
      ]
     },
     "metadata": {
      "needs_background": "light"
     },
     "output_type": "display_data"
    }
   ],
   "source": [
    "plt.plot(range(len(epoch_train_acc)), epoch_train_acc)\n",
    "plt.plot(range(len(epoch_valid_acc)), epoch_valid_acc)\n",
    "plt.xlabel('Epochs')\n",
    "plt.ylabel('MSE')\n",
    "\n",
    "plt.show()"
   ]
  },
  {
   "cell_type": "markdown",
   "metadata": {},
   "source": [
    "### Вывод:\n",
    "\n",
    "    В итоге схождение обучения и проверки достигается увеличением числа эпох. \n",
    "    На 89 эпохе обучение можно считать завершенным."
   ]
  },
  {
   "cell_type": "markdown",
   "metadata": {},
   "source": [
    "\n",
    "\n",
    "## Лабораторная работа 2: Обучение однослойного персептрона методом стохастического градиентного спуска\n",
    "\n",
    "__Студент:__ Спивак А.А.\n",
    "\n",
    "__Группа:__ МБД2032\n"
   ]
  },
  {
   "cell_type": "markdown",
   "metadata": {},
   "source": [
    "### Цель работы. \n",
    "\n",
    "    Изучить алгоритм обучения однослойного персептрона методом стохастического градиентного спуска.\n",
    "\n",
    "\n",
    "### Задание\n",
    "\n",
    "    Построить и обучить нейронную сеть для распознавания цифровых рукописных символов из базы данных MNIST (Mixed National Institute of Standards and Technology database). Нейронная сеть должна корректно распознавать образы из тестовой выборки в большинстве случаев. Общий процент ошибки распознавания образов не должен быть выше 20%.\n",
    "\n",
    "### Теоретические сведения. \n",
    "\n",
    "Критерии останова алгоритма обучения могут быть следующими:\n",
    "\n",
    "* Значение ошибки ε для текущего обучающего вектора, вычисляемое на текущем случайно взятом обучающем векторе не превышает заданного заранее установленного порогового значения εпорог, близкого к нулю: ε<ε_порог.\n",
    "* Превышен установленный лимит количества эпох.\n",
    "* Значение общей ошибки всей сети меняется незначительно на протяжении нескольких эпох.\n"
   ]
  },
  {
   "cell_type": "markdown",
   "metadata": {},
   "source": [
    "### Ход выполнения работы"
   ]
  },
  {
   "cell_type": "markdown",
   "metadata": {},
   "source": [
    "### Загрузка предподготовленных данных"
   ]
  },
  {
   "cell_type": "code",
   "execution_count": 95,
   "metadata": {},
   "outputs": [],
   "source": [
    "mnist = np.load('mnist_scaled.npz')"
   ]
  },
  {
   "cell_type": "code",
   "execution_count": 96,
   "metadata": {},
   "outputs": [
    {
     "data": {
      "text/plain": [
       "['X_train', 'y_train', 'X_test', 'y_test', 'X_valid', 'y_valid']"
      ]
     },
     "execution_count": 96,
     "metadata": {},
     "output_type": "execute_result"
    }
   ],
   "source": [
    "mnist.files"
   ]
  },
  {
   "cell_type": "code",
   "execution_count": 97,
   "metadata": {},
   "outputs": [],
   "source": [
    "X_train, y_train, X_test, y_test, X_valid, y_valid = [mnist[f] for f in mnist.files]"
   ]
  },
  {
   "cell_type": "code",
   "execution_count": 98,
   "metadata": {},
   "outputs": [
    {
     "data": {
      "text/plain": [
       "(numpy.ndarray, (55000, 784))"
      ]
     },
     "execution_count": 98,
     "metadata": {},
     "output_type": "execute_result"
    }
   ],
   "source": [
    "type(X_train), X_train.shape"
   ]
  },
  {
   "cell_type": "code",
   "execution_count": 99,
   "metadata": {},
   "outputs": [],
   "source": [
    "import numpy as np"
   ]
  },
  {
   "cell_type": "code",
   "execution_count": 100,
   "metadata": {},
   "outputs": [],
   "source": [
    "\n",
    "class NeuralNetMLP:\n",
    "    \n",
    "    \"\"\" \n",
    "    Нейронная сеть прямого распрастронения / классификатор \n",
    "    на основе многослойного персептрона\n",
    "    Параметры:\n",
    "    ---------\n",
    "    n_hidden : int (по умолчанию: 30)\n",
    "        количестов скрытых элементов\n",
    "    l2: float (по умолчанию: 0.)\n",
    "        значения лямбда для регулярщации L2\n",
    "        Регуляризация отстутствует, если l2=0 (принято по умолчанию).\n",
    "    epochs: int (по умолчанию: 100)\n",
    "        Количетсов проходов по обучающему набору.\n",
    "    lr: float (по умолчанию: 0.001)\n",
    "        скорость обучения \n",
    "    shuffle: bool (по умолчанию True)\n",
    "        Eсли True, тогда обучающие данные тасуются \n",
    "        каждую эпоху, чтобы предотвратить циклы\n",
    "    minibatch_size: int (по умолчанию 1)\n",
    "        Количество обучаюших образцов на минипакет\n",
    "    seed : int (по умолчанию:None)\n",
    "        Случайное начальное значение для инициализации весов и тасования\n",
    "        \n",
    "    Атрибуты:\n",
    "    --------\n",
    "    eval_ : dict\n",
    "        Словарь, в котором собираются показатели издержек,\n",
    "        правильности при обучении и правильности при испытании\n",
    "        для каждой эпохи во время обучения.\n",
    "    \"\"\"\n",
    "    \n",
    "    def __init__(self, num_features, num_labels,  num_classes, random_seed = 123):\n",
    "        super().__init__()\n",
    "\n",
    "        self.num_classes = num_classes\n",
    "        self.num_labels = num_labels\n",
    "        \n",
    "        # output layer инициализация весов для  слоя + баес\n",
    "        rgen = np.random.RandomState(random_seed)\n",
    "        self.weight_o = rgen.normal(loc = 0.0, scale = 0.001, size = ( num_classes,num_features ))\n",
    "        self.bias_o = np.zeros(self.num_classes)\n",
    "\n",
    "\n",
    "\n",
    "    \n",
    "    def sigmoid(self, z):\n",
    "        return 1. / (1. + np.exp(-z))\n",
    "    \n",
    "    def int_to_onehot(self, y, num_labels):\n",
    "        \n",
    "        ''' \n",
    "        Кодирует метки класса в представление с унитарным кодом\n",
    "        \n",
    "        Параметры:\n",
    "        ---------\n",
    "        y: массив, форма = [n_examples]\n",
    "            Целеые значения.\n",
    "            \n",
    "        Возвращает:\n",
    "        ----------\n",
    "        onehot : массив, форма = (n_examples, n_labels)\n",
    "        '''\n",
    "        onehot = np.zeros((y.shape[0], num_labels))\n",
    "        for indx, val in enumerate(y):\n",
    "            onehot[indx, val] = 1\n",
    "\n",
    "        return onehot \n",
    "    def forward(self, X):\n",
    "        \n",
    "        # 1 шаг прямого распространение скларяное произведение X и weight_h\n",
    "        z_out = np.dot(X, self.weight_o.T) + self.bias_o\n",
    "        \n",
    "        # 2 шаг применение функции активации (сигмоиды) - активация слоя\n",
    "        a_out = self.sigmoid(z_out)\n",
    "        \n",
    "        \n",
    "        return  X, a_out\n",
    "    \n",
    "    \n",
    "    def backward(self, x, a_out, y):\n",
    "        \n",
    "        ##########################\n",
    "        #Обратоне распространение#\n",
    "        ##########################\n",
    "        #########################\n",
    "        ### Output layer weights#\n",
    "        #########################\n",
    "        \n",
    "        #onehot encoding\n",
    "        y_onehot = self.int_to_onehot(y, self.num_classes)\n",
    "        \n",
    "        # Part 1: dLoss/dOutWeights\n",
    "        ## = dLoss/dOutAct(a_out) * dOutAct(a_out)/dOutNet(z_out) * dOutNet(z_out)/dOutWeight\n",
    "        ## where DeltaOut = dLoss/dOutAct * dOutAct/dOutNet\n",
    "        ## for convenient re-use\n",
    "        \n",
    "        # input/output dim: [n_examples, n_classes]\n",
    "        d_loss__d_a_out = 2.*(a_out - y_onehot) / y.shape[0]\n",
    "\n",
    "        # input/output dim: [n_examples, n_classes]\n",
    "        d_a_out__d_z_out = a_out * (1. - a_out) # sigmoid derivative\n",
    "\n",
    "        # output dim: [n_examples, n_classes]\n",
    "        delta_out = d_loss__d_a_out * d_a_out__d_z_out # \"delta (rule) placeholder\"\n",
    "\n",
    "        # gradient for output weights\n",
    "        \n",
    "        # [n_examples, n_hidden]\n",
    "        d_z_out__dw_out = x\n",
    "        \n",
    "        # input dim: [n_classes, n_examples] dot [n_examples, n_hidden]\n",
    "        # output dim: [n_classes, n_hidden]\n",
    "        d_loss__dw_out = np.dot(delta_out.T, d_z_out__dw_out)\n",
    "        d_loss__db_out = np.sum(delta_out, axis = 0)\n",
    "        \n",
    "\n",
    "        return d_loss__dw_out, d_loss__db_out\n",
    "                \n",
    "        \n",
    "        "
   ]
  },
  {
   "cell_type": "code",
   "execution_count": 101,
   "metadata": {},
   "outputs": [],
   "source": [
    "model = NeuralNetMLP(num_features = 28 * 28,\n",
    "                     num_labels = 10,\n",
    "                   num_classes = 10)\n",
    "\n"
   ]
  },
  {
   "cell_type": "code",
   "execution_count": 102,
   "metadata": {},
   "outputs": [],
   "source": [
    "minibatch_size=100\n",
    "num_epochs =50\n",
    "\n",
    "def minibatch_generator(X, y, minibacth_size=50):\n",
    "    indices = np.arange(X.shape[0])\n",
    "    \n",
    "    \n",
    "    np.random.shuffle(indices)\n",
    "     \n",
    "    #итерация по мини-пакетам\n",
    "    for start_batch_indx in range(0, indices.shape[0] - minibatch_size + 1, minibatch_size):\n",
    "        indx = indices[start_batch_indx: start_batch_indx + minibatch_size]\n",
    "        yield X[indx], y[indx]\n",
    "        \n",
    "        \n",
    "\n",
    "        "
   ]
  },
  {
   "cell_type": "code",
   "execution_count": 103,
   "metadata": {},
   "outputs": [],
   "source": [
    "def compute_mse_and_acc(nnet, X, y, num_labels = 10, minibatch_size = 100):\n",
    "    mse, correct_pred, num_examples = 0., 0, 0\n",
    "    minibatch_gen = minibatch_generator(X, y, minibatch_size)\n",
    "        \n",
    "    for i, (features, targets) in enumerate(minibatch_gen):\n",
    "\n",
    "        _, probas = nnet.forward(features)\n",
    "        predicted_labels = np.argmax(probas, axis = 1)\n",
    "        \n",
    "        onehot_targets = nnet.int_to_onehot(targets, num_labels = num_labels)\n",
    "        loss = np.mean((onehot_targets - probas) ** 2)\n",
    "        correct_pred += (predicted_labels == targets).sum()\n",
    "        \n",
    "        num_examples += targets.shape[0]\n",
    "        mse += loss\n",
    "\n",
    "    mse = mse/i\n",
    "    acc = correct_pred/num_examples\n",
    "    return mse, acc"
   ]
  },
  {
   "cell_type": "code",
   "execution_count": 104,
   "metadata": {},
   "outputs": [
    {
     "name": "stdout",
     "output_type": "stream",
     "text": [
      "Initial valid MSE: 0.3\n",
      "Initial valid accuracy: 10.2%\n"
     ]
    }
   ],
   "source": [
    "mse, acc = compute_mse_and_acc(model, X_valid, y_valid)\n",
    "print(f'Initial valid MSE: {mse:.1f}')\n",
    "print(f'Initial valid accuracy: {acc*100:.1f}%')"
   ]
  },
  {
   "cell_type": "code",
   "execution_count": 105,
   "metadata": {},
   "outputs": [],
   "source": [
    "def train(model, X_train, y_train, X_valid, y_valid, num_epochs, learning_rate=0.1):\n",
    "    \n",
    "    \n",
    "    ''' \n",
    "    Обновляем веса \n",
    "    \n",
    "    '''\n",
    "    epoch_loss = []\n",
    "    epoch_train_acc = []\n",
    "    epoch_valid_acc = []\n",
    "    \n",
    "    for e in range(num_epochs):\n",
    "\n",
    "        # iterate over minibatches\n",
    "        minibatch_gen = minibatch_generator(\n",
    "            X_train, y_train, minibatch_size)\n",
    "\n",
    "        for X_train_mini, y_train_mini in minibatch_gen:\n",
    "\n",
    "            #### Compute outputs ####\n",
    "            _, a_out = model.forward(X_train_mini)\n",
    "\n",
    "            #### Compute gradients ####\n",
    "            d_loss__d_w_out, d_loss__d_b_out = \\\n",
    "                model.backward(X_train_mini, a_out, y_train_mini)\n",
    "\n",
    "            #### Update weights ####\n",
    "            model.weight_o -= learning_rate * d_loss__d_w_out\n",
    "            model.bias_o -= learning_rate * d_loss__d_b_out\n",
    "\n",
    "        #### Epoch Logging ####        \n",
    "        train_mse, train_acc = compute_mse_and_acc(model, X_train, y_train)\n",
    "        valid_mse, valid_acc = compute_mse_and_acc(model, X_valid, y_valid)\n",
    "        train_acc, valid_acc = train_acc * 100, valid_acc * 100\n",
    "        epoch_train_acc.append(train_acc)\n",
    "        epoch_valid_acc.append(valid_acc)\n",
    "        epoch_loss.append(train_mse)\n",
    "        print(f'Epoch: {e+1:03d}/{num_epochs:03d} '\n",
    "              f'| Train MSE: {train_mse:.2f} '\n",
    "              f'| Train Acc: {train_acc:.2f}% '\n",
    "              f'| Valid Acc: {valid_acc:.2f}%')\n",
    "\n",
    "    return epoch_loss, epoch_train_acc, epoch_valid_acc\n"
   ]
  },
  {
   "cell_type": "code",
   "execution_count": 106,
   "metadata": {},
   "outputs": [
    {
     "name": "stdout",
     "output_type": "stream",
     "text": [
      "Epoch: 001/060 | Train MSE: 0.09 | Train Acc: 11.94% | Valid Acc: 12.02%\n",
      "Epoch: 002/060 | Train MSE: 0.08 | Train Acc: 29.09% | Valid Acc: 29.16%\n",
      "Epoch: 003/060 | Train MSE: 0.06 | Train Acc: 46.94% | Valid Acc: 47.22%\n",
      "Epoch: 004/060 | Train MSE: 0.06 | Train Acc: 47.13% | Valid Acc: 47.26%\n",
      "Epoch: 005/060 | Train MSE: 0.05 | Train Acc: 55.43% | Valid Acc: 55.52%\n",
      "Epoch: 006/060 | Train MSE: 0.05 | Train Acc: 55.94% | Valid Acc: 56.12%\n",
      "Epoch: 007/060 | Train MSE: 0.04 | Train Acc: 71.48% | Valid Acc: 71.38%\n",
      "Epoch: 008/060 | Train MSE: 0.04 | Train Acc: 71.77% | Valid Acc: 71.92%\n",
      "Epoch: 009/060 | Train MSE: 0.04 | Train Acc: 71.84% | Valid Acc: 71.94%\n",
      "Epoch: 010/060 | Train MSE: 0.04 | Train Acc: 77.83% | Valid Acc: 77.40%\n",
      "Epoch: 011/060 | Train MSE: 0.02 | Train Acc: 90.55% | Valid Acc: 90.24%\n",
      "Epoch: 012/060 | Train MSE: 0.02 | Train Acc: 90.80% | Valid Acc: 90.30%\n",
      "Epoch: 013/060 | Train MSE: 0.02 | Train Acc: 90.83% | Valid Acc: 90.32%\n",
      "Epoch: 014/060 | Train MSE: 0.02 | Train Acc: 91.03% | Valid Acc: 90.62%\n",
      "Epoch: 015/060 | Train MSE: 0.02 | Train Acc: 91.36% | Valid Acc: 90.98%\n",
      "Epoch: 016/060 | Train MSE: 0.02 | Train Acc: 91.45% | Valid Acc: 91.10%\n",
      "Epoch: 017/060 | Train MSE: 0.02 | Train Acc: 91.50% | Valid Acc: 91.04%\n",
      "Epoch: 018/060 | Train MSE: 0.02 | Train Acc: 91.47% | Valid Acc: 91.08%\n",
      "Epoch: 019/060 | Train MSE: 0.02 | Train Acc: 91.46% | Valid Acc: 91.02%\n",
      "Epoch: 020/060 | Train MSE: 0.02 | Train Acc: 91.48% | Valid Acc: 90.98%\n",
      "Epoch: 021/060 | Train MSE: 0.02 | Train Acc: 91.63% | Valid Acc: 91.16%\n",
      "Epoch: 022/060 | Train MSE: 0.02 | Train Acc: 91.65% | Valid Acc: 91.18%\n",
      "Epoch: 023/060 | Train MSE: 0.02 | Train Acc: 91.42% | Valid Acc: 90.80%\n",
      "Epoch: 024/060 | Train MSE: 0.02 | Train Acc: 91.77% | Valid Acc: 91.28%\n",
      "Epoch: 025/060 | Train MSE: 0.02 | Train Acc: 91.70% | Valid Acc: 91.10%\n",
      "Epoch: 026/060 | Train MSE: 0.02 | Train Acc: 91.70% | Valid Acc: 90.90%\n",
      "Epoch: 027/060 | Train MSE: 0.02 | Train Acc: 91.75% | Valid Acc: 91.16%\n",
      "Epoch: 028/060 | Train MSE: 0.02 | Train Acc: 91.90% | Valid Acc: 91.22%\n",
      "Epoch: 029/060 | Train MSE: 0.02 | Train Acc: 91.84% | Valid Acc: 91.18%\n",
      "Epoch: 030/060 | Train MSE: 0.02 | Train Acc: 91.99% | Valid Acc: 91.24%\n",
      "Epoch: 031/060 | Train MSE: 0.02 | Train Acc: 92.02% | Valid Acc: 91.28%\n",
      "Epoch: 032/060 | Train MSE: 0.02 | Train Acc: 91.91% | Valid Acc: 91.10%\n",
      "Epoch: 033/060 | Train MSE: 0.02 | Train Acc: 91.79% | Valid Acc: 91.10%\n",
      "Epoch: 034/060 | Train MSE: 0.02 | Train Acc: 91.97% | Valid Acc: 91.30%\n",
      "Epoch: 035/060 | Train MSE: 0.02 | Train Acc: 92.10% | Valid Acc: 91.52%\n",
      "Epoch: 036/060 | Train MSE: 0.02 | Train Acc: 92.02% | Valid Acc: 91.38%\n",
      "Epoch: 037/060 | Train MSE: 0.02 | Train Acc: 91.90% | Valid Acc: 91.32%\n",
      "Epoch: 038/060 | Train MSE: 0.02 | Train Acc: 92.17% | Valid Acc: 91.58%\n",
      "Epoch: 039/060 | Train MSE: 0.02 | Train Acc: 91.94% | Valid Acc: 91.10%\n",
      "Epoch: 040/060 | Train MSE: 0.02 | Train Acc: 91.96% | Valid Acc: 91.20%\n",
      "Epoch: 041/060 | Train MSE: 0.02 | Train Acc: 92.02% | Valid Acc: 91.42%\n",
      "Epoch: 042/060 | Train MSE: 0.01 | Train Acc: 92.16% | Valid Acc: 91.30%\n",
      "Epoch: 043/060 | Train MSE: 0.01 | Train Acc: 92.21% | Valid Acc: 91.34%\n",
      "Epoch: 044/060 | Train MSE: 0.01 | Train Acc: 92.15% | Valid Acc: 91.28%\n",
      "Epoch: 045/060 | Train MSE: 0.02 | Train Acc: 92.04% | Valid Acc: 91.08%\n",
      "Epoch: 046/060 | Train MSE: 0.01 | Train Acc: 92.12% | Valid Acc: 91.26%\n",
      "Epoch: 047/060 | Train MSE: 0.01 | Train Acc: 92.20% | Valid Acc: 91.28%\n",
      "Epoch: 048/060 | Train MSE: 0.01 | Train Acc: 92.24% | Valid Acc: 91.32%\n",
      "Epoch: 049/060 | Train MSE: 0.01 | Train Acc: 92.17% | Valid Acc: 91.56%\n",
      "Epoch: 050/060 | Train MSE: 0.01 | Train Acc: 92.25% | Valid Acc: 91.38%\n",
      "Epoch: 051/060 | Train MSE: 0.01 | Train Acc: 92.14% | Valid Acc: 91.16%\n",
      "Epoch: 052/060 | Train MSE: 0.01 | Train Acc: 92.19% | Valid Acc: 91.52%\n",
      "Epoch: 053/060 | Train MSE: 0.01 | Train Acc: 92.17% | Valid Acc: 91.28%\n",
      "Epoch: 054/060 | Train MSE: 0.01 | Train Acc: 92.19% | Valid Acc: 91.38%\n",
      "Epoch: 055/060 | Train MSE: 0.01 | Train Acc: 92.27% | Valid Acc: 91.40%\n",
      "Epoch: 056/060 | Train MSE: 0.01 | Train Acc: 92.23% | Valid Acc: 91.32%\n",
      "Epoch: 057/060 | Train MSE: 0.01 | Train Acc: 92.28% | Valid Acc: 91.46%\n",
      "Epoch: 058/060 | Train MSE: 0.01 | Train Acc: 92.27% | Valid Acc: 91.48%\n",
      "Epoch: 059/060 | Train MSE: 0.01 | Train Acc: 92.31% | Valid Acc: 91.32%\n",
      "Epoch: 060/060 | Train MSE: 0.01 | Train Acc: 92.31% | Valid Acc: 91.46%\n"
     ]
    }
   ],
   "source": [
    "np.random.seed(647) # for the training set shuffling\n",
    "\n",
    "epoch_loss, epoch_train_acc, epoch_valid_acc = train(\n",
    "    model, X_train, y_train, X_valid, y_valid,\n",
    "    num_epochs = 60, learning_rate = 0.1)"
   ]
  },
  {
   "cell_type": "code",
   "execution_count": 107,
   "metadata": {},
   "outputs": [],
   "source": [
    "import matplotlib.pyplot as plt\n"
   ]
  },
  {
   "cell_type": "code",
   "execution_count": 108,
   "metadata": {},
   "outputs": [
    {
     "data": {
      "image/png": "[encoded data removed]",
      "text/plain": [
       "<Figure size 432x288 with 1 Axes>"
      ]
     },
     "metadata": {
      "needs_background": "light"
     },
     "output_type": "display_data"
    }
   ],
   "source": [
    "plt.plot(range(len(epoch_loss)), epoch_loss)\n",
    "\n",
    "plt.xlabel(\"Epoch\")\n",
    "plt.ylabel(\"MSE\")\n",
    "\n",
    "plt.show()"
   ]
  },
  {
   "cell_type": "markdown",
   "metadata": {},
   "source": [
    "### Вывод:\n",
    "\n",
    "    Наибольший прирост точности обучения проявляется в первых 11 эпохах, далее схождение сильно замедляется. На 60 эпохе спада не наблюдается, по этому обучение можно считать законченным."
   ]
  },
  {
   "cell_type": "code",
   "execution_count": 109,
   "metadata": {},
   "outputs": [
    {
     "data": {
      "image/png": "[encoded data removed]",
      "text/plain": [
       "<Figure size 432x288 with 1 Axes>"
      ]
     },
     "metadata": {
      "needs_background": "light"
     },
     "output_type": "display_data"
    }
   ],
   "source": [
    "plt.plot(range(len(epoch_train_acc)), epoch_train_acc)\n",
    "plt.plot(range(len(epoch_valid_acc)), epoch_valid_acc)\n",
    "\n",
    "plt.xlabel('Epoch')\n",
    "plt.ylabel('Accuracy')\n",
    "\n",
    "plt.show()"
   ]
  },
  {
   "cell_type": "markdown",
   "metadata": {},
   "source": [
    "### Вывод:\n",
    "\n",
    "    В итоге схождение обучения и проверки достигается увеличением числа эпох. \n",
    "    На 59 эпохе обучение можно считать завершенным."
   ]
  },
  {
   "cell_type": "markdown",
   "metadata": {},
   "source": [
    "### Итог:\n",
    "    \n",
    "    Для правильного обучение нейронной сети стоит обращать внимание на сходимость обучения с тестовыми значениями. Это позволяет судить о том справляется ли нейронная сеть с обучением или стоит подкорректировать модели для обучения или параметры сети."
   ]
  }
 ],
 "metadata": {
  "kernelspec": {
   "display_name": "Python 3 (ipykernel)",
   "language": "python",
   "name": "python3"
  },
  "language_info": {
   "codemirror_mode": {
    "name": "ipython",
    "version": 3
   },
   "file_extension": ".py",
   "mimetype": "text/x-python",
   "name": "python",
   "nbconvert_exporter": "python",
   "pygments_lexer": "ipython3",
   "version": "3.9.12"
  }
 },
 "nbformat": 4,
 "nbformat_minor": 4
}
